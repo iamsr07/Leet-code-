#Q8
class Solution(object):
    def findErrorNums(self, nums):
        """
        :type nums: List[int]
        :rtype: List[int]
        """

        """n = is to count no of element in nums
        a = is sums of the nums with duplicate
        b = is sums of nums without duplicate ( here we are using set to remove the set)
        c = sum of count of the element in num """
        n = len(nums)
        a = sum(nums)
        b = sum(set(nums))
        c = n * (n+1) // 2

        duplicate = a - b
        missing = c - b
        
        return(duplicate, missing)
